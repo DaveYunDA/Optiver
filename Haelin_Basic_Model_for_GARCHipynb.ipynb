{
  "nbformat": 4,
  "nbformat_minor": 0,
  "metadata": {
    "colab": {
      "provenance": []
    },
    "kernelspec": {
      "name": "python3",
      "display_name": "Python 3"
    },
    "language_info": {
      "name": "python"
    }
  },
  "cells": [
    {
      "cell_type": "code",
      "execution_count": 1,
      "metadata": {
        "colab": {
          "base_uri": "https://localhost:8080/",
          "height": 373
        },
        "id": "nqNh7lBGESsm",
        "outputId": "8fef7efd-d14e-475a-ad50-86b084ea6473"
      },
      "outputs": [
        {
          "output_type": "error",
          "ename": "ModuleNotFoundError",
          "evalue": "ignored",
          "traceback": [
            "\u001b[0;31m---------------------------------------------------------------------------\u001b[0m",
            "\u001b[0;31mModuleNotFoundError\u001b[0m                       Traceback (most recent call last)",
            "\u001b[0;32m<ipython-input-1-f8cdbed621be>\u001b[0m in \u001b[0;36m<cell line: 2>\u001b[0;34m()\u001b[0m\n\u001b[1;32m      1\u001b[0m \u001b[0;32mimport\u001b[0m \u001b[0mnumpy\u001b[0m \u001b[0;32mas\u001b[0m \u001b[0mnp\u001b[0m\u001b[0;34m\u001b[0m\u001b[0;34m\u001b[0m\u001b[0m\n\u001b[0;32m----> 2\u001b[0;31m \u001b[0;32mimport\u001b[0m \u001b[0mpyflux\u001b[0m \u001b[0;32mas\u001b[0m \u001b[0mpf\u001b[0m\u001b[0;34m\u001b[0m\u001b[0;34m\u001b[0m\u001b[0m\n\u001b[0m\u001b[1;32m      3\u001b[0m \u001b[0;32mimport\u001b[0m \u001b[0mpandas\u001b[0m \u001b[0;32mas\u001b[0m \u001b[0mpd\u001b[0m\u001b[0;34m\u001b[0m\u001b[0;34m\u001b[0m\u001b[0m\n\u001b[1;32m      4\u001b[0m \u001b[0;32mfrom\u001b[0m \u001b[0mpandas_datareader\u001b[0m \u001b[0;32mimport\u001b[0m \u001b[0mDataReader\u001b[0m\u001b[0;34m\u001b[0m\u001b[0;34m\u001b[0m\u001b[0m\n\u001b[1;32m      5\u001b[0m \u001b[0;32mfrom\u001b[0m \u001b[0mdatetime\u001b[0m \u001b[0;32mimport\u001b[0m \u001b[0mdatetime\u001b[0m\u001b[0;34m\u001b[0m\u001b[0;34m\u001b[0m\u001b[0m\n",
            "\u001b[0;31mModuleNotFoundError\u001b[0m: No module named 'pyflux'",
            "",
            "\u001b[0;31m---------------------------------------------------------------------------\u001b[0;32m\nNOTE: If your import is failing due to a missing package, you can\nmanually install dependencies using either !pip or !apt.\n\nTo view examples of installing some common dependencies, click the\n\"Open Examples\" button below.\n\u001b[0;31m---------------------------------------------------------------------------\u001b[0m\n"
          ],
          "errorDetails": {
            "actions": [
              {
                "action": "open_url",
                "actionText": "Open Examples",
                "url": "/notebooks/snippets/importing_libraries.ipynb"
              }
            ]
          }
        }
      ],
      "source": [
        "import numpy as np\n",
        "import pyflux as pf\n",
        "import pandas as pd\n",
        "from pandas_datareader import DataReader\n",
        "from datetime import datetime\n",
        "import matplotlib.pyplot as plt\n",
        "%matplotlib inline"
      ]
    },
    {
      "cell_type": "code",
      "source": [
        "daily_volatility = ['Return'].std()\n",
        "monthly_volatility = math.sqrt(21) * daily_volatility\n",
        "annual_volatility = math.sqrt(252) * daily_volatility\n",
        "from tabulate import tabulate\n",
        "print(tabulate([['Tesla',daily_volatility,monthly_volatility,annual_volatility]],headers = ['Daily Volatility %', 'Monthly Volatility %', 'Annual Volatility %'],tablefmt = 'fancy_grid',stralign='center',numalign='center',floatfmt=\".2f\"))\n",
        "\n",
        "model = pf.GARCH(returns,p=1,q=1)\n",
        "x = model.fit()\n",
        "x.summary()\n",
        "model.plot_z(figsize=(15,5))\n",
        "model.plot_predict(h=10)\n",
        "model.plot_predict_is(h=50,figsize=(15,5))\n",
        "from arch import arch_model\n",
        "from arch.__future__ import reindexing\n",
        "\n",
        "garch_model = arch_model(tsla_data['Daily_Returns'], p = 1, q = 1,\n",
        "                      mean = 'constant', vol = 'GARCH', dist = 'normal')\n",
        "\n",
        "gm_result = garch_model.fit(disp='off')\n",
        "print(gm_result.params)\n",
        "\n",
        "print('\\n')\n",
        "\n",
        "gm_forecast = gm_result.forecast(horizon = 5)\n",
        "print(gm_forecast.variance[-1:])\n",
        "\n",
        "rolling_predictions = []\n",
        "test_size = 365\n",
        "\n",
        "for i in range(test_size):\n",
        "    train = ['Daily_Returns'][:-(test_size-i)]\n",
        "    model = arch_model(train, p=1, q=1)\n",
        "    model_fit = model.fit(disp='off')\n",
        "    pred = model_fit.forecast(horizon=1)\n",
        "    rolling_predictions.append(np.sqrt(pred.variance.values[-1,:][0]))\n",
        "    \n",
        "rolling_predictions = pd.Series(rolling_predictions, index=['Daily_Returns'].index[-365:])\n",
        "\n",
        "fig,ax = plt.subplots(figsize=(10,4))\n",
        "ax.spines[['top','right']].set_visible(False)\n",
        "plt.plot(rolling_predictions)\n",
        "plt.title('Rolling Prediction')"
      ],
      "metadata": {
        "id": "21z8Ero8ET_K"
      },
      "execution_count": null,
      "outputs": []
    }
  ]
}