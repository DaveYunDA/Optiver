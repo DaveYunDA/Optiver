{
 "cells": [
  {
   "cell_type": "code",
   "execution_count": 2,
   "metadata": {},
   "outputs": [],
   "source": [
    "import os\n",
    "import glob\n",
    "import pandas as pd\n",
    "import numpy as np\n",
    "import statistics\n",
    "import matplotlib.pyplot as plt \n",
    "\n"
   ]
  },
  {
   "cell_type": "code",
   "execution_count": 16,
   "metadata": {},
   "outputs": [
    {
     "name": "stdout",
     "output_type": "stream",
     "text": [
      "['../individual_book_train/stock_13.csv', '../individual_book_train/stock_10.csv', '../individual_book_train/stock_38.csv', '../individual_book_train/stock_39.csv', '../individual_book_train/stock_11.csv', '../individual_book_train/stock_29.csv', '../individual_book_train/stock_15.csv', '../individual_book_train/stock_14.csv', '../individual_book_train/stock_28.csv', '../individual_book_train/stock_16.csv', '../individual_book_train/stock_17.csv', '../individual_book_train/stock_124.csv', '../individual_book_train/stock_118.csv', '../individual_book_train/stock_70.csv', '../individual_book_train/stock_8.csv', '../individual_book_train/stock_64.csv', '../individual_book_train/stock_58.csv', '../individual_book_train/stock_59.csv', '../individual_book_train/stock_9.csv', '../individual_book_train/stock_119.csv', '../individual_book_train/stock_125.csv', '../individual_book_train/stock_98.csv', '../individual_book_train/stock_67.csv', '../individual_book_train/stock_73.csv', '../individual_book_train/stock_72.csv', '../individual_book_train/stock_66.csv', '../individual_book_train/stock_99.csv', '../individual_book_train/stock_126.csv', '../individual_book_train/stock_122.csv', '../individual_book_train/stock_89.csv', '../individual_book_train/stock_62.csv', '../individual_book_train/stock_76.csv', '../individual_book_train/stock_77.csv', '../individual_book_train/stock_63.csv', '../individual_book_train/stock_88.csv', '../individual_book_train/stock_123.csv', '../individual_book_train/stock_109.csv', '../individual_book_train/stock_75.csv', '../individual_book_train/stock_61.csv', '../individual_book_train/stock_60.csv', '../individual_book_train/stock_74.csv', '../individual_book_train/stock_48.csv', '../individual_book_train/stock_120.csv', '../individual_book_train/stock_108.csv', '../individual_book_train/stock_105.csv', '../individual_book_train/stock_111.csv', '../individual_book_train/stock_86.csv', '../individual_book_train/stock_51.csv', '../individual_book_train/stock_1.csv', '../individual_book_train/stock_78.csv', '../individual_book_train/stock_0.csv', '../individual_book_train/stock_44.csv', '../individual_book_train/stock_50.csv', '../individual_book_train/stock_87.csv', '../individual_book_train/stock_93.csv', '../individual_book_train/stock_110.csv', '../individual_book_train/stock_104.csv', '../individual_book_train/stock_112.csv', '../individual_book_train/stock_85.csv', '../individual_book_train/stock_46.csv', '../individual_book_train/stock_52.csv', '../individual_book_train/stock_2.csv', '../individual_book_train/stock_3.csv', '../individual_book_train/stock_53.csv', '../individual_book_train/stock_47.csv', '../individual_book_train/stock_90.csv', '../individual_book_train/stock_84.csv', '../individual_book_train/stock_107.csv', '../individual_book_train/stock_113.csv', '../individual_book_train/stock_103.csv', '../individual_book_train/stock_80.csv', '../individual_book_train/stock_94.csv', '../individual_book_train/stock_7.csv', '../individual_book_train/stock_43.csv', '../individual_book_train/stock_56.csv', '../individual_book_train/stock_42.csv', '../individual_book_train/stock_6.csv', '../individual_book_train/stock_95.csv', '../individual_book_train/stock_81.csv', '../individual_book_train/stock_102.csv', '../individual_book_train/stock_116.csv', '../individual_book_train/stock_100.csv', '../individual_book_train/stock_114.csv', '../individual_book_train/stock_97.csv', '../individual_book_train/stock_83.csv', '../individual_book_train/stock_4.csv', '../individual_book_train/stock_68.csv', '../individual_book_train/stock_40.csv', '../individual_book_train/stock_41.csv', '../individual_book_train/stock_55.csv', '../individual_book_train/stock_5.csv', '../individual_book_train/stock_69.csv', '../individual_book_train/stock_82.csv', '../individual_book_train/stock_96.csv', '../individual_book_train/stock_115.csv', '../individual_book_train/stock_101.csv', '../individual_book_train/stock_32.csv', '../individual_book_train/stock_26.csv', '../individual_book_train/stock_27.csv', '../individual_book_train/stock_33.csv', '../individual_book_train/stock_31.csv', '../individual_book_train/stock_19.csv', '../individual_book_train/stock_18.csv', '../individual_book_train/stock_30.csv', '../individual_book_train/stock_20.csv', '../individual_book_train/stock_34.csv', '../individual_book_train/stock_35.csv', '../individual_book_train/stock_21.csv', '../individual_book_train/stock_37.csv', '../individual_book_train/stock_23.csv', '../individual_book_train/stock_22.csv', '../individual_book_train/stock_36.csv']\n"
     ]
    }
   ],
   "source": [
    "file_path = '../individual_book_train/*'\n",
    "all_files = glob.glob(file_path)\n",
    "print(all_files)\n",
    "\n",
    "agg_ls = []"
   ]
  },
  {
   "cell_type": "code",
   "execution_count": 3,
   "metadata": {},
   "outputs": [],
   "source": [
    "def create_df(filename):\n",
    "    df = pd.read_csv(filename)\n",
    "    return df\n",
    "\n",
    "# Callum & Cecilia Code\n",
    "# Code to calculate Weighted Average Price for a Stock at a time.\n",
    "def add_wap(stock1):\n",
    "    stock1[\"WAP\"] = (stock1[\"bid_price1\"] * stock1[\"ask_size1\"] + stock1[\"ask_price1\"] * stock1[\"bid_size1\"]) / (stock1[\"bid_size1\"] + stock1[\"ask_size1\"])\n",
    "    return stock1\n",
    "\n",
    "def calc_log_returns(stock1):\n",
    "\n",
    "    # Creating empty list to store the log returns for each time period.\n",
    "    log_r1 = []\n",
    "    # Getting an array of unique time IDs from teh first column of the dataframe (is this the index assigned automatically?)\n",
    "    time_IDs = np.unique(stock1.iloc[:, 0])\n",
    "\n",
    "    # For every unique time id\n",
    "    for i in range(len(time_IDs)):\n",
    "        \n",
    "        # Calculating the seconds in bucket and WAP values for rows where the time ID matches the current ID. \n",
    "        sec = stock1.loc[stock1.iloc[:, 0] == time_IDs[i], 'seconds_in_bucket'].values\n",
    "        price = stock1.loc[stock1.iloc[:, 0] == time_IDs[i], 'WAP'].values\n",
    "\n",
    "        # Calculating the log returns for this time period\n",
    "        log_r = np.log(price[1:] / price[0:(len(price) - 1)])\n",
    "        \n",
    "        # Adding the log returns for this time period to the list. \n",
    "        log_r1.append(pd.DataFrame({'time': sec[1:], 'log_return': log_r}))\n",
    "        # Check if any time periods were skipped.\n",
    "        time_no_change = np.setdiff1d(np.arange(1, 601), log_r1[i]['time'].values)\n",
    "        # Anytime periods that were skipped set them to have a log return of 0\n",
    "        if len(time_no_change) > 0:\n",
    "            new_df = pd.DataFrame({'time': time_no_change, 'log_return': 0})\n",
    "            log_r1[i] = pd.concat([log_r1[i], new_df])\n",
    "            log_r1[i] = log_r1[i].sort_values(by='time')\n",
    "\n",
    "    return log_r1\n",
    "\n",
    "\n",
    "# Function to compute the volatility from the log returns. \n",
    "def comp_vol(x):\n",
    "    return np.sqrt(np.sum(x ** 2))\n",
    "\n",
    "def calc_volatility(log_r1):\n",
    "    # List to store the volatility values for each time period. \n",
    "    vol = []\n",
    "# For every time period\n",
    "    for i in range(len(log_r1)):\n",
    "        # We assign each log return to a time bucket (group of 30 seconds)\n",
    "        log_r1[i]['time_bucket'] = np.ceil(log_r1[i]['time'] / 30)\n",
    "        # Compute the volatility for each time bucket using the comp_vol function.\n",
    "        vol.append(log_r1[i].groupby('time_bucket')['log_return'].agg(comp_vol).reset_index())\n",
    "        vol[i].columns = ['time_bucket', 'volatility']\n",
    "    \n",
    "    return vol\n",
    "\n",
    "\n",
    "# Helper Functions\n",
    "# vol is as list of dataframes. \n",
    "# Each timebucket represents a 30 second interval with the log volatilitiy for a given window (the time_id).\n",
    "# We should get the average volatility for eaech time_id, (list of 3830), generate aggregate metrics for it. \n",
    "# store min, max, iqr1, iqr3,\n",
    "\n",
    "# Calculates the average volatility for every time_id represented by a dataframe. \n",
    "def agg_vol(vol_ls):\n",
    "    agg_ls = []\n",
    "    for df in vol_ls:\n",
    "        agg_ls.append(df['volatility'].mean())\n",
    "    return agg_ls\n",
    "\n",
    "\n",
    "# Generates summary statistics on the average volatility for every time_id\n",
    "def summary_stats(avg_vol_ls):\n",
    "    mean = statistics.mean(avg_vol_ls)\n",
    "    median = statistics.median(avg_vol_ls)\n",
    "    q1 = statistics.median(avg_vol_ls[:len(avg_vol_ls)//2])\n",
    "    q3 = statistics.median(avg_vol_ls[(len(avg_vol_ls)+1)//2:])\n",
    "    minimum = min(avg_vol_ls)\n",
    "    maximum = max(avg_vol_ls)\n",
    "    stdev = statistics.stdev(avg_vol_ls)\n",
    "    variance = statistics.stdev(avg_vol_ls)\n",
    "\n",
    "    summary = [minimum, q1, median, q3, maximum, mean, stdev, variance]\n",
    "    return summary\n",
    "\n",
    "\n"
   ]
  },
  {
   "cell_type": "code",
   "execution_count": 4,
   "metadata": {},
   "outputs": [],
   "source": [
    "\n",
    "\n",
    "\n",
    "my_df = create_df('../individual_book_train/stock_64.csv')\n",
    "my_df = add_wap(my_df)\n",
    "log_returns = calc_log_returns(my_df)\n",
    "vol = calc_volatility(log_returns)\n"
   ]
  },
  {
   "cell_type": "code",
   "execution_count": 7,
   "metadata": {},
   "outputs": [
    {
     "data": {
      "text/plain": [
       "(array([3.031e+03, 5.980e+02, 1.190e+02, 5.000e+01, 1.900e+01, 5.000e+00,\n",
       "        4.000e+00, 2.000e+00, 1.000e+00, 1.000e+00]),\n",
       " array([9.86984482e-05, 6.87626635e-04, 1.27655482e-03, 1.86548301e-03,\n",
       "        2.45441119e-03, 3.04333938e-03, 3.63226757e-03, 4.22119575e-03,\n",
       "        4.81012394e-03, 5.39905213e-03, 5.98798031e-03]),\n",
       " <BarContainer object of 10 artists>)"
      ]
     },
     "execution_count": 7,
     "metadata": {},
     "output_type": "execute_result"
    },
    {
     "data": {
      "image/png": "[encoded data removed]",
      "text/plain": [
       "<Figure size 640x480 with 1 Axes>"
      ]
     },
     "metadata": {},
     "output_type": "display_data"
    }
   ],
   "source": []
  },
  {
   "cell_type": "code",
   "execution_count": 6,
   "metadata": {},
   "outputs": [
    {
     "name": "stdout",
     "output_type": "stream",
     "text": [
      "[9.869844819471185e-05, 0.0004104729372765607, 0.000413255200259961, 0.00041770458436135496, 0.005987980312862796, 0.000544298067307916, 0.0004336730166020211, 0.0004336730166020211]\n"
     ]
    }
   ],
   "source": [
    "avg_vol_ls = agg_vol(vol)\n",
    "summary = summary_stats(avg_vol_ls)\n",
    "print(summary)\n",
    "\n",
    "\n",
    "plt.hist(avg_vol_ls)\n",
    "#plt.set_xscale('log')\n"
   ]
  },
  {
   "cell_type": "code",
   "execution_count": 8,
   "metadata": {},
   "outputs": [],
   "source": [
    "def all_stocks(stock_ls):\n",
    "    all_stocks_summary = []\n",
    "\n",
    "    for filename in stock_ls:\n",
    "        print(filename)\n",
    "        stock_df = create_df(filename)\n",
    "\n",
    "        stock_df = add_wap(stock_df)\n",
    "        log_returns_ls = calc_log_returns(stock_df)\n",
    "        # Returns a list of dataframes, each dataframe represents a unique time id. \n",
    "        # Each dataframe contains the volatility every 30 seconds. \n",
    "        #print(log_returns_ls)\n",
    "        volatility = calc_volatility(log_returns_ls)\n",
    "        # \n",
    "        agg_ls = agg_vol(volatility)\n",
    "        summary = summary_stats(agg_ls)\n",
    "        all_stocks_summary.append(summary)\n",
    "\n",
    "    df = pd.DataFrame(all_stocks_summary, columns=['minimum', 'q1', 'median', 'q3', 'maximum', 'mean', 'stdev', 'variance'])\n",
    "    return df\n",
    "\n"
   ]
  },
  {
   "cell_type": "code",
   "execution_count": null,
   "metadata": {},
   "outputs": [],
   "source": []
  },
  {
   "cell_type": "code",
   "execution_count": 17,
   "metadata": {},
   "outputs": [
    {
     "name": "stdout",
     "output_type": "stream",
     "text": [
      "../individual_book_train/stock_13.csv\n",
      "../individual_book_train/stock_10.csv\n",
      "../individual_book_train/stock_38.csv\n",
      "../individual_book_train/stock_39.csv\n",
      "../individual_book_train/stock_11.csv\n",
      "../individual_book_train/stock_29.csv\n",
      "../individual_book_train/stock_15.csv\n",
      "../individual_book_train/stock_14.csv\n",
      "../individual_book_train/stock_28.csv\n",
      "../individual_book_train/stock_16.csv\n",
      "../individual_book_train/stock_17.csv\n",
      "../individual_book_train/stock_124.csv\n",
      "../individual_book_train/stock_118.csv\n",
      "../individual_book_train/stock_70.csv\n",
      "../individual_book_train/stock_8.csv\n",
      "../individual_book_train/stock_64.csv\n",
      "../individual_book_train/stock_58.csv\n",
      "../individual_book_train/stock_59.csv\n",
      "../individual_book_train/stock_9.csv\n",
      "../individual_book_train/stock_119.csv\n",
      "../individual_book_train/stock_125.csv\n",
      "../individual_book_train/stock_98.csv\n",
      "../individual_book_train/stock_67.csv\n",
      "../individual_book_train/stock_73.csv\n",
      "../individual_book_train/stock_72.csv\n",
      "../individual_book_train/stock_66.csv\n",
      "../individual_book_train/stock_99.csv\n",
      "../individual_book_train/stock_126.csv\n",
      "../individual_book_train/stock_122.csv\n",
      "../individual_book_train/stock_89.csv\n",
      "../individual_book_train/stock_62.csv\n",
      "../individual_book_train/stock_76.csv\n",
      "../individual_book_train/stock_77.csv\n",
      "../individual_book_train/stock_63.csv\n",
      "../individual_book_train/stock_88.csv\n",
      "../individual_book_train/stock_123.csv\n",
      "../individual_book_train/stock_109.csv\n",
      "../individual_book_train/stock_75.csv\n",
      "../individual_book_train/stock_61.csv\n",
      "../individual_book_train/stock_60.csv\n",
      "../individual_book_train/stock_74.csv\n",
      "../individual_book_train/stock_48.csv\n",
      "../individual_book_train/stock_120.csv\n",
      "../individual_book_train/stock_108.csv\n",
      "../individual_book_train/stock_105.csv\n",
      "../individual_book_train/stock_111.csv\n",
      "../individual_book_train/stock_86.csv\n",
      "../individual_book_train/stock_51.csv\n",
      "../individual_book_train/stock_1.csv\n",
      "../individual_book_train/stock_78.csv\n",
      "../individual_book_train/stock_0.csv\n",
      "../individual_book_train/stock_44.csv\n",
      "../individual_book_train/stock_50.csv\n",
      "../individual_book_train/stock_87.csv\n",
      "../individual_book_train/stock_93.csv\n",
      "../individual_book_train/stock_110.csv\n",
      "../individual_book_train/stock_104.csv\n",
      "../individual_book_train/stock_112.csv\n",
      "../individual_book_train/stock_85.csv\n",
      "../individual_book_train/stock_46.csv\n",
      "../individual_book_train/stock_52.csv\n",
      "../individual_book_train/stock_2.csv\n",
      "../individual_book_train/stock_3.csv\n",
      "../individual_book_train/stock_53.csv\n",
      "../individual_book_train/stock_47.csv\n",
      "../individual_book_train/stock_90.csv\n",
      "../individual_book_train/stock_84.csv\n",
      "../individual_book_train/stock_107.csv\n",
      "../individual_book_train/stock_113.csv\n",
      "../individual_book_train/stock_103.csv\n",
      "../individual_book_train/stock_80.csv\n",
      "../individual_book_train/stock_94.csv\n",
      "../individual_book_train/stock_7.csv\n",
      "../individual_book_train/stock_43.csv\n",
      "../individual_book_train/stock_56.csv\n",
      "../individual_book_train/stock_42.csv\n",
      "../individual_book_train/stock_6.csv\n",
      "../individual_book_train/stock_95.csv\n",
      "../individual_book_train/stock_81.csv\n",
      "../individual_book_train/stock_102.csv\n",
      "../individual_book_train/stock_116.csv\n",
      "../individual_book_train/stock_100.csv\n",
      "../individual_book_train/stock_114.csv\n",
      "../individual_book_train/stock_97.csv\n",
      "../individual_book_train/stock_83.csv\n",
      "../individual_book_train/stock_4.csv\n",
      "../individual_book_train/stock_68.csv\n",
      "../individual_book_train/stock_40.csv\n",
      "../individual_book_train/stock_41.csv\n",
      "../individual_book_train/stock_55.csv\n",
      "../individual_book_train/stock_5.csv\n",
      "../individual_book_train/stock_69.csv\n",
      "../individual_book_train/stock_82.csv\n",
      "../individual_book_train/stock_96.csv\n",
      "../individual_book_train/stock_115.csv\n",
      "../individual_book_train/stock_101.csv\n",
      "../individual_book_train/stock_32.csv\n",
      "../individual_book_train/stock_26.csv\n",
      "../individual_book_train/stock_27.csv\n",
      "../individual_book_train/stock_33.csv\n",
      "../individual_book_train/stock_31.csv\n",
      "../individual_book_train/stock_19.csv\n",
      "../individual_book_train/stock_18.csv\n",
      "../individual_book_train/stock_30.csv\n",
      "../individual_book_train/stock_20.csv\n",
      "../individual_book_train/stock_34.csv\n",
      "../individual_book_train/stock_35.csv\n",
      "../individual_book_train/stock_21.csv\n",
      "../individual_book_train/stock_37.csv\n",
      "../individual_book_train/stock_23.csv\n",
      "../individual_book_train/stock_22.csv\n",
      "../individual_book_train/stock_36.csv\n"
     ]
    }
   ],
   "source": [
    "# all_files = all_files[:5]\n",
    "final_df = all_stocks(all_files)"
   ]
  },
  {
   "cell_type": "code",
   "execution_count": 18,
   "metadata": {},
   "outputs": [],
   "source": [
    "final_df\n",
    "final_df.to_csv('summary_stats_optiver.csv')"
   ]
  },
  {
   "cell_type": "code",
   "execution_count": 19,
   "metadata": {},
   "outputs": [
    {
     "data": {
      "text/html": [
       "<div>\n",
       "<style scoped>\n",
       "    .dataframe tbody tr th:only-of-type {\n",
       "        vertical-align: middle;\n",
       "    }\n",
       "\n",
       "    .dataframe tbody tr th {\n",
       "        vertical-align: top;\n",
       "    }\n",
       "\n",
       "    .dataframe thead th {\n",
       "        text-align: right;\n",
       "    }\n",
       "</style>\n",
       "<table border=\"1\" class=\"dataframe\">\n",
       "  <thead>\n",
       "    <tr style=\"text-align: right;\">\n",
       "      <th></th>\n",
       "      <th>minimum</th>\n",
       "      <th>q1</th>\n",
       "      <th>median</th>\n",
       "      <th>q3</th>\n",
       "      <th>maximum</th>\n",
       "      <th>mean</th>\n",
       "      <th>stdev</th>\n",
       "      <th>variance</th>\n",
       "    </tr>\n",
       "  </thead>\n",
       "  <tbody>\n",
       "    <tr>\n",
       "      <th>0</th>\n",
       "      <td>0.000055</td>\n",
       "      <td>0.000429</td>\n",
       "      <td>0.000425</td>\n",
       "      <td>0.000421</td>\n",
       "      <td>0.010473</td>\n",
       "      <td>0.000572</td>\n",
       "      <td>0.000530</td>\n",
       "      <td>0.000530</td>\n",
       "    </tr>\n",
       "    <tr>\n",
       "      <th>1</th>\n",
       "      <td>0.000124</td>\n",
       "      <td>0.000626</td>\n",
       "      <td>0.000621</td>\n",
       "      <td>0.000616</td>\n",
       "      <td>0.007454</td>\n",
       "      <td>0.000812</td>\n",
       "      <td>0.000595</td>\n",
       "      <td>0.000595</td>\n",
       "    </tr>\n",
       "    <tr>\n",
       "      <th>2</th>\n",
       "      <td>0.000147</td>\n",
       "      <td>0.000721</td>\n",
       "      <td>0.000730</td>\n",
       "      <td>0.000737</td>\n",
       "      <td>0.010426</td>\n",
       "      <td>0.001001</td>\n",
       "      <td>0.000848</td>\n",
       "      <td>0.000848</td>\n",
       "    </tr>\n",
       "    <tr>\n",
       "      <th>3</th>\n",
       "      <td>0.000092</td>\n",
       "      <td>0.000443</td>\n",
       "      <td>0.000436</td>\n",
       "      <td>0.000431</td>\n",
       "      <td>0.008108</td>\n",
       "      <td>0.000616</td>\n",
       "      <td>0.000553</td>\n",
       "      <td>0.000553</td>\n",
       "    </tr>\n",
       "    <tr>\n",
       "      <th>4</th>\n",
       "      <td>0.000117</td>\n",
       "      <td>0.000801</td>\n",
       "      <td>0.000793</td>\n",
       "      <td>0.000785</td>\n",
       "      <td>0.013530</td>\n",
       "      <td>0.001039</td>\n",
       "      <td>0.000805</td>\n",
       "      <td>0.000805</td>\n",
       "    </tr>\n",
       "    <tr>\n",
       "      <th>...</th>\n",
       "      <td>...</td>\n",
       "      <td>...</td>\n",
       "      <td>...</td>\n",
       "      <td>...</td>\n",
       "      <td>...</td>\n",
       "      <td>...</td>\n",
       "      <td>...</td>\n",
       "      <td>...</td>\n",
       "    </tr>\n",
       "    <tr>\n",
       "      <th>107</th>\n",
       "      <td>0.000065</td>\n",
       "      <td>0.000419</td>\n",
       "      <td>0.000418</td>\n",
       "      <td>0.000418</td>\n",
       "      <td>0.007870</td>\n",
       "      <td>0.000561</td>\n",
       "      <td>0.000474</td>\n",
       "      <td>0.000474</td>\n",
       "    </tr>\n",
       "    <tr>\n",
       "      <th>108</th>\n",
       "      <td>0.000052</td>\n",
       "      <td>0.001033</td>\n",
       "      <td>0.001045</td>\n",
       "      <td>0.001060</td>\n",
       "      <td>0.011004</td>\n",
       "      <td>0.001358</td>\n",
       "      <td>0.000994</td>\n",
       "      <td>0.000994</td>\n",
       "    </tr>\n",
       "    <tr>\n",
       "      <th>109</th>\n",
       "      <td>0.000177</td>\n",
       "      <td>0.000775</td>\n",
       "      <td>0.000778</td>\n",
       "      <td>0.000783</td>\n",
       "      <td>0.007031</td>\n",
       "      <td>0.000988</td>\n",
       "      <td>0.000687</td>\n",
       "      <td>0.000687</td>\n",
       "    </tr>\n",
       "    <tr>\n",
       "      <th>110</th>\n",
       "      <td>0.000152</td>\n",
       "      <td>0.000836</td>\n",
       "      <td>0.000845</td>\n",
       "      <td>0.000855</td>\n",
       "      <td>0.007433</td>\n",
       "      <td>0.001064</td>\n",
       "      <td>0.000727</td>\n",
       "      <td>0.000727</td>\n",
       "    </tr>\n",
       "    <tr>\n",
       "      <th>111</th>\n",
       "      <td>0.000155</td>\n",
       "      <td>0.000626</td>\n",
       "      <td>0.000630</td>\n",
       "      <td>0.000636</td>\n",
       "      <td>0.006006</td>\n",
       "      <td>0.000776</td>\n",
       "      <td>0.000500</td>\n",
       "      <td>0.000500</td>\n",
       "    </tr>\n",
       "  </tbody>\n",
       "</table>\n",
       "<p>112 rows × 8 columns</p>\n",
       "</div>"
      ],
      "text/plain": [
       "      minimum        q1    median        q3   maximum      mean     stdev  \\\n",
       "0    0.000055  0.000429  0.000425  0.000421  0.010473  0.000572  0.000530   \n",
       "1    0.000124  0.000626  0.000621  0.000616  0.007454  0.000812  0.000595   \n",
       "2    0.000147  0.000721  0.000730  0.000737  0.010426  0.001001  0.000848   \n",
       "3    0.000092  0.000443  0.000436  0.000431  0.008108  0.000616  0.000553   \n",
       "4    0.000117  0.000801  0.000793  0.000785  0.013530  0.001039  0.000805   \n",
       "..        ...       ...       ...       ...       ...       ...       ...   \n",
       "107  0.000065  0.000419  0.000418  0.000418  0.007870  0.000561  0.000474   \n",
       "108  0.000052  0.001033  0.001045  0.001060  0.011004  0.001358  0.000994   \n",
       "109  0.000177  0.000775  0.000778  0.000783  0.007031  0.000988  0.000687   \n",
       "110  0.000152  0.000836  0.000845  0.000855  0.007433  0.001064  0.000727   \n",
       "111  0.000155  0.000626  0.000630  0.000636  0.006006  0.000776  0.000500   \n",
       "\n",
       "     variance  \n",
       "0    0.000530  \n",
       "1    0.000595  \n",
       "2    0.000848  \n",
       "3    0.000553  \n",
       "4    0.000805  \n",
       "..        ...  \n",
       "107  0.000474  \n",
       "108  0.000994  \n",
       "109  0.000687  \n",
       "110  0.000727  \n",
       "111  0.000500  \n",
       "\n",
       "[112 rows x 8 columns]"
      ]
     },
     "execution_count": 19,
     "metadata": {},
     "output_type": "execute_result"
    }
   ],
   "source": [
    "final_df"
   ]
  },
  {
   "cell_type": "code",
   "execution_count": 61,
   "metadata": {},
   "outputs": [
    {
     "data": {
      "text/plain": [
       "{'whiskers': [<matplotlib.lines.Line2D at 0x11d276fd0>,\n",
       "  <matplotlib.lines.Line2D at 0x11d276040>],\n",
       " 'caps': [<matplotlib.lines.Line2D at 0x11d276f70>,\n",
       "  <matplotlib.lines.Line2D at 0x11d2766d0>],\n",
       " 'boxes': [<matplotlib.lines.Line2D at 0x11d276190>],\n",
       " 'medians': [<matplotlib.lines.Line2D at 0x11d276f10>],\n",
       " 'fliers': [],\n",
       " 'means': []}"
      ]
     },
     "execution_count": 61,
     "metadata": {},
     "output_type": "execute_result"
    },
    {
     "data": {
      "image/png": "[encoded data removed]",
      "text/plain": [
       "<Figure size 640x480 with 1 Axes>"
      ]
     },
     "metadata": {},
     "output_type": "display_data"
    }
   ],
   "source": [
    "# Visualising boxplot summary:\n",
    "import matplotlib.pyplot as plt\n",
    "\n",
    "# fig, ax = plt.subplot()\n",
    "def my_boxplot(row):\n",
    "    data = row[0:5]\n",
    "    fig, ax = plt.subplots()\n",
    "    g = ax.boxplot([data], widths=0.5, vert=False, sym='o', showfliers=False)\n",
    "    # ax.set_xscale('log')\n",
    "    return g\n",
    "\n",
    "my_boxplot(summary)\n"
   ]
  },
  {
   "cell_type": "code",
   "execution_count": 13,
   "metadata": {},
   "outputs": [
    {
     "data": {
      "text/html": [
       "<div>\n",
       "<style scoped>\n",
       "    .dataframe tbody tr th:only-of-type {\n",
       "        vertical-align: middle;\n",
       "    }\n",
       "\n",
       "    .dataframe tbody tr th {\n",
       "        vertical-align: top;\n",
       "    }\n",
       "\n",
       "    .dataframe thead th {\n",
       "        text-align: right;\n",
       "    }\n",
       "</style>\n",
       "<table border=\"1\" class=\"dataframe\">\n",
       "  <thead>\n",
       "    <tr style=\"text-align: right;\">\n",
       "      <th></th>\n",
       "      <th>0</th>\n",
       "      <th>1</th>\n",
       "      <th>2</th>\n",
       "      <th>3</th>\n",
       "      <th>4</th>\n",
       "    </tr>\n",
       "  </thead>\n",
       "  <tbody>\n",
       "    <tr>\n",
       "      <th>minimum</th>\n",
       "      <td>0.000055</td>\n",
       "      <td>0.000124</td>\n",
       "      <td>0.000147</td>\n",
       "      <td>0.000092</td>\n",
       "      <td>0.000117</td>\n",
       "    </tr>\n",
       "    <tr>\n",
       "      <th>q1</th>\n",
       "      <td>0.000429</td>\n",
       "      <td>0.000626</td>\n",
       "      <td>0.000721</td>\n",
       "      <td>0.000443</td>\n",
       "      <td>0.000801</td>\n",
       "    </tr>\n",
       "    <tr>\n",
       "      <th>median</th>\n",
       "      <td>0.000425</td>\n",
       "      <td>0.000621</td>\n",
       "      <td>0.000730</td>\n",
       "      <td>0.000436</td>\n",
       "      <td>0.000793</td>\n",
       "    </tr>\n",
       "    <tr>\n",
       "      <th>q3</th>\n",
       "      <td>0.000421</td>\n",
       "      <td>0.000616</td>\n",
       "      <td>0.000737</td>\n",
       "      <td>0.000431</td>\n",
       "      <td>0.000785</td>\n",
       "    </tr>\n",
       "    <tr>\n",
       "      <th>maximum</th>\n",
       "      <td>0.010473</td>\n",
       "      <td>0.007454</td>\n",
       "      <td>0.010426</td>\n",
       "      <td>0.008108</td>\n",
       "      <td>0.013530</td>\n",
       "    </tr>\n",
       "    <tr>\n",
       "      <th>mean</th>\n",
       "      <td>0.000572</td>\n",
       "      <td>0.000812</td>\n",
       "      <td>0.001001</td>\n",
       "      <td>0.000616</td>\n",
       "      <td>0.001039</td>\n",
       "    </tr>\n",
       "    <tr>\n",
       "      <th>stdev</th>\n",
       "      <td>0.000530</td>\n",
       "      <td>0.000595</td>\n",
       "      <td>0.000848</td>\n",
       "      <td>0.000553</td>\n",
       "      <td>0.000805</td>\n",
       "    </tr>\n",
       "    <tr>\n",
       "      <th>variance</th>\n",
       "      <td>0.000530</td>\n",
       "      <td>0.000595</td>\n",
       "      <td>0.000848</td>\n",
       "      <td>0.000553</td>\n",
       "      <td>0.000805</td>\n",
       "    </tr>\n",
       "  </tbody>\n",
       "</table>\n",
       "</div>"
      ],
      "text/plain": [
       "                 0         1         2         3         4\n",
       "minimum   0.000055  0.000124  0.000147  0.000092  0.000117\n",
       "q1        0.000429  0.000626  0.000721  0.000443  0.000801\n",
       "median    0.000425  0.000621  0.000730  0.000436  0.000793\n",
       "q3        0.000421  0.000616  0.000737  0.000431  0.000785\n",
       "maximum   0.010473  0.007454  0.010426  0.008108  0.013530\n",
       "mean      0.000572  0.000812  0.001001  0.000616  0.001039\n",
       "stdev     0.000530  0.000595  0.000848  0.000553  0.000805\n",
       "variance  0.000530  0.000595  0.000848  0.000553  0.000805"
      ]
     },
     "execution_count": 13,
     "metadata": {},
     "output_type": "execute_result"
    }
   ],
   "source": [
    "final_df = final_df.T\n",
    "final_df"
   ]
  },
  {
   "cell_type": "code",
   "execution_count": 14,
   "metadata": {},
   "outputs": [
    {
     "data": {
      "text/plain": [
       "<AxesSubplot:>"
      ]
     },
     "execution_count": 14,
     "metadata": {},
     "output_type": "execute_result"
    },
    {
     "data": {
      "image/png": "[encoded data removed]",
      "text/plain": [
       "<Figure size 640x480 with 1 Axes>"
      ]
     },
     "metadata": {},
     "output_type": "display_data"
    }
   ],
   "source": [
    "final_df.boxplot()"
   ]
  },
  {
   "cell_type": "code",
   "execution_count": 3,
   "metadata": {},
   "outputs": [],
   "source": [
    "final_df = pd.read_csv('summary_stats_optiver.csv')"
   ]
  },
  {
   "cell_type": "code",
   "execution_count": 55,
   "metadata": {},
   "outputs": [
    {
     "data": {
      "text/plain": [
       "list"
      ]
     },
     "execution_count": 55,
     "metadata": {},
     "output_type": "execute_result"
    }
   ],
   "source": [
    "# Entire dataframe\n",
    "df_ls = np.array_split(final_df, 10)\n",
    "type(df_ls)"
   ]
  },
  {
   "cell_type": "code",
   "execution_count": 57,
   "metadata": {},
   "outputs": [
    {
     "data": {
      "text/html": [
       "<div>\n",
       "<style scoped>\n",
       "    .dataframe tbody tr th:only-of-type {\n",
       "        vertical-align: middle;\n",
       "    }\n",
       "\n",
       "    .dataframe tbody tr th {\n",
       "        vertical-align: top;\n",
       "    }\n",
       "\n",
       "    .dataframe thead th {\n",
       "        text-align: right;\n",
       "    }\n",
       "</style>\n",
       "<table border=\"1\" class=\"dataframe\">\n",
       "  <thead>\n",
       "    <tr style=\"text-align: right;\">\n",
       "      <th></th>\n",
       "      <th>minimum</th>\n",
       "      <th>q1</th>\n",
       "      <th>median</th>\n",
       "      <th>q3</th>\n",
       "      <th>maximum</th>\n",
       "      <th>mean</th>\n",
       "      <th>stdev</th>\n",
       "      <th>variance</th>\n",
       "    </tr>\n",
       "  </thead>\n",
       "  <tbody>\n",
       "    <tr>\n",
       "      <th>0</th>\n",
       "      <td>0.000055</td>\n",
       "      <td>0.000429</td>\n",
       "      <td>0.000425</td>\n",
       "      <td>0.000421</td>\n",
       "      <td>0.010473</td>\n",
       "      <td>0.000572</td>\n",
       "      <td>0.000530</td>\n",
       "      <td>0.000530</td>\n",
       "    </tr>\n",
       "    <tr>\n",
       "      <th>1</th>\n",
       "      <td>0.000124</td>\n",
       "      <td>0.000626</td>\n",
       "      <td>0.000621</td>\n",
       "      <td>0.000616</td>\n",
       "      <td>0.007454</td>\n",
       "      <td>0.000812</td>\n",
       "      <td>0.000595</td>\n",
       "      <td>0.000595</td>\n",
       "    </tr>\n",
       "    <tr>\n",
       "      <th>2</th>\n",
       "      <td>0.000147</td>\n",
       "      <td>0.000721</td>\n",
       "      <td>0.000730</td>\n",
       "      <td>0.000737</td>\n",
       "      <td>0.010426</td>\n",
       "      <td>0.001001</td>\n",
       "      <td>0.000848</td>\n",
       "      <td>0.000848</td>\n",
       "    </tr>\n",
       "    <tr>\n",
       "      <th>3</th>\n",
       "      <td>0.000092</td>\n",
       "      <td>0.000443</td>\n",
       "      <td>0.000436</td>\n",
       "      <td>0.000431</td>\n",
       "      <td>0.008108</td>\n",
       "      <td>0.000616</td>\n",
       "      <td>0.000553</td>\n",
       "      <td>0.000553</td>\n",
       "    </tr>\n",
       "    <tr>\n",
       "      <th>4</th>\n",
       "      <td>0.000117</td>\n",
       "      <td>0.000801</td>\n",
       "      <td>0.000793</td>\n",
       "      <td>0.000785</td>\n",
       "      <td>0.013530</td>\n",
       "      <td>0.001039</td>\n",
       "      <td>0.000805</td>\n",
       "      <td>0.000805</td>\n",
       "    </tr>\n",
       "    <tr>\n",
       "      <th>5</th>\n",
       "      <td>0.000067</td>\n",
       "      <td>0.000341</td>\n",
       "      <td>0.000343</td>\n",
       "      <td>0.000344</td>\n",
       "      <td>0.002797</td>\n",
       "      <td>0.000418</td>\n",
       "      <td>0.000279</td>\n",
       "      <td>0.000279</td>\n",
       "    </tr>\n",
       "    <tr>\n",
       "      <th>6</th>\n",
       "      <td>0.000157</td>\n",
       "      <td>0.000650</td>\n",
       "      <td>0.000644</td>\n",
       "      <td>0.000639</td>\n",
       "      <td>0.013859</td>\n",
       "      <td>0.000846</td>\n",
       "      <td>0.000662</td>\n",
       "      <td>0.000662</td>\n",
       "    </tr>\n",
       "    <tr>\n",
       "      <th>7</th>\n",
       "      <td>0.000087</td>\n",
       "      <td>0.000487</td>\n",
       "      <td>0.000482</td>\n",
       "      <td>0.000478</td>\n",
       "      <td>0.009251</td>\n",
       "      <td>0.000638</td>\n",
       "      <td>0.000530</td>\n",
       "      <td>0.000530</td>\n",
       "    </tr>\n",
       "    <tr>\n",
       "      <th>8</th>\n",
       "      <td>0.000081</td>\n",
       "      <td>0.000503</td>\n",
       "      <td>0.000503</td>\n",
       "      <td>0.000503</td>\n",
       "      <td>0.009904</td>\n",
       "      <td>0.000660</td>\n",
       "      <td>0.000560</td>\n",
       "      <td>0.000560</td>\n",
       "    </tr>\n",
       "    <tr>\n",
       "      <th>9</th>\n",
       "      <td>0.000095</td>\n",
       "      <td>0.000667</td>\n",
       "      <td>0.000661</td>\n",
       "      <td>0.000652</td>\n",
       "      <td>0.010742</td>\n",
       "      <td>0.000896</td>\n",
       "      <td>0.000780</td>\n",
       "      <td>0.000780</td>\n",
       "    </tr>\n",
       "    <tr>\n",
       "      <th>10</th>\n",
       "      <td>0.000151</td>\n",
       "      <td>0.000713</td>\n",
       "      <td>0.000711</td>\n",
       "      <td>0.000709</td>\n",
       "      <td>0.006636</td>\n",
       "      <td>0.000942</td>\n",
       "      <td>0.000739</td>\n",
       "      <td>0.000739</td>\n",
       "    </tr>\n",
       "    <tr>\n",
       "      <th>11</th>\n",
       "      <td>0.000188</td>\n",
       "      <td>0.000684</td>\n",
       "      <td>0.000698</td>\n",
       "      <td>0.000709</td>\n",
       "      <td>0.005600</td>\n",
       "      <td>0.000863</td>\n",
       "      <td>0.000520</td>\n",
       "      <td>0.000520</td>\n",
       "    </tr>\n",
       "  </tbody>\n",
       "</table>\n",
       "</div>"
      ],
      "text/plain": [
       "     minimum        q1    median        q3   maximum      mean     stdev  \\\n",
       "0   0.000055  0.000429  0.000425  0.000421  0.010473  0.000572  0.000530   \n",
       "1   0.000124  0.000626  0.000621  0.000616  0.007454  0.000812  0.000595   \n",
       "2   0.000147  0.000721  0.000730  0.000737  0.010426  0.001001  0.000848   \n",
       "3   0.000092  0.000443  0.000436  0.000431  0.008108  0.000616  0.000553   \n",
       "4   0.000117  0.000801  0.000793  0.000785  0.013530  0.001039  0.000805   \n",
       "5   0.000067  0.000341  0.000343  0.000344  0.002797  0.000418  0.000279   \n",
       "6   0.000157  0.000650  0.000644  0.000639  0.013859  0.000846  0.000662   \n",
       "7   0.000087  0.000487  0.000482  0.000478  0.009251  0.000638  0.000530   \n",
       "8   0.000081  0.000503  0.000503  0.000503  0.009904  0.000660  0.000560   \n",
       "9   0.000095  0.000667  0.000661  0.000652  0.010742  0.000896  0.000780   \n",
       "10  0.000151  0.000713  0.000711  0.000709  0.006636  0.000942  0.000739   \n",
       "11  0.000188  0.000684  0.000698  0.000709  0.005600  0.000863  0.000520   \n",
       "\n",
       "    variance  \n",
       "0   0.000530  \n",
       "1   0.000595  \n",
       "2   0.000848  \n",
       "3   0.000553  \n",
       "4   0.000805  \n",
       "5   0.000279  \n",
       "6   0.000662  \n",
       "7   0.000530  \n",
       "8   0.000560  \n",
       "9   0.000780  \n",
       "10  0.000739  \n",
       "11  0.000520  "
      ]
     },
     "execution_count": 57,
     "metadata": {},
     "output_type": "execute_result"
    }
   ],
   "source": [
    "df_ls[0]"
   ]
  },
  {
   "cell_type": "code",
   "execution_count": 62,
   "metadata": {},
   "outputs": [
    {
     "ename": "ValueError",
     "evalue": "X must have 2 or fewer dimensions",
     "output_type": "error",
     "traceback": [
      "\u001b[0;31m---------------------------------------------------------------------------\u001b[0m",
      "\u001b[0;31mValueError\u001b[0m                                Traceback (most recent call last)",
      "\u001b[1;32m/Users/sarahbradley/Documents/University/0123_Sem/DATA3888/DATA3888/agg_volatility.ipynb Cell 18\u001b[0m in \u001b[0;36m5\n\u001b[1;32m      <a href='vscode-notebook-cell:/Users/sarahbradley/Documents/University/0123_Sem/DATA3888/DATA3888/agg_volatility.ipynb#X50sZmlsZQ%3D%3D?line=1'>2</a>\u001b[0m i \u001b[39m=\u001b[39m \u001b[39m0\u001b[39m\n\u001b[1;32m      <a href='vscode-notebook-cell:/Users/sarahbradley/Documents/University/0123_Sem/DATA3888/DATA3888/agg_volatility.ipynb#X50sZmlsZQ%3D%3D?line=3'>4</a>\u001b[0m \u001b[39mfor\u001b[39;00m df \u001b[39min\u001b[39;00m df_ls:\n\u001b[0;32m----> <a href='vscode-notebook-cell:/Users/sarahbradley/Documents/University/0123_Sem/DATA3888/DATA3888/agg_volatility.ipynb#X50sZmlsZQ%3D%3D?line=4'>5</a>\u001b[0m     g \u001b[39m=\u001b[39m my_boxplot(df)\n\u001b[1;32m      <a href='vscode-notebook-cell:/Users/sarahbradley/Documents/University/0123_Sem/DATA3888/DATA3888/agg_volatility.ipynb#X50sZmlsZQ%3D%3D?line=5'>6</a>\u001b[0m     name \u001b[39m=\u001b[39m \u001b[39m\"\u001b[39m\u001b[39mplot\u001b[39m\u001b[39m\"\u001b[39m\u001b[39m+\u001b[39m\u001b[39mstr\u001b[39m(i)\n\u001b[1;32m      <a href='vscode-notebook-cell:/Users/sarahbradley/Documents/University/0123_Sem/DATA3888/DATA3888/agg_volatility.ipynb#X50sZmlsZQ%3D%3D?line=6'>7</a>\u001b[0m     \u001b[39mprint\u001b[39m(df\u001b[39m.\u001b[39mT\u001b[39m.\u001b[39mcolumns)\n",
      "\u001b[1;32m/Users/sarahbradley/Documents/University/0123_Sem/DATA3888/DATA3888/agg_volatility.ipynb Cell 18\u001b[0m in \u001b[0;36m8\n\u001b[1;32m      <a href='vscode-notebook-cell:/Users/sarahbradley/Documents/University/0123_Sem/DATA3888/DATA3888/agg_volatility.ipynb#X50sZmlsZQ%3D%3D?line=5'>6</a>\u001b[0m data \u001b[39m=\u001b[39m row[\u001b[39m0\u001b[39m:\u001b[39m5\u001b[39m]\n\u001b[1;32m      <a href='vscode-notebook-cell:/Users/sarahbradley/Documents/University/0123_Sem/DATA3888/DATA3888/agg_volatility.ipynb#X50sZmlsZQ%3D%3D?line=6'>7</a>\u001b[0m fig, ax \u001b[39m=\u001b[39m plt\u001b[39m.\u001b[39msubplots()\n\u001b[0;32m----> <a href='vscode-notebook-cell:/Users/sarahbradley/Documents/University/0123_Sem/DATA3888/DATA3888/agg_volatility.ipynb#X50sZmlsZQ%3D%3D?line=7'>8</a>\u001b[0m g \u001b[39m=\u001b[39m ax\u001b[39m.\u001b[39;49mboxplot([data], widths\u001b[39m=\u001b[39;49m\u001b[39m0.5\u001b[39;49m, vert\u001b[39m=\u001b[39;49m\u001b[39mFalse\u001b[39;49;00m, sym\u001b[39m=\u001b[39;49m\u001b[39m'\u001b[39;49m\u001b[39mo\u001b[39;49m\u001b[39m'\u001b[39;49m, showfliers\u001b[39m=\u001b[39;49m\u001b[39mFalse\u001b[39;49;00m)\n\u001b[1;32m      <a href='vscode-notebook-cell:/Users/sarahbradley/Documents/University/0123_Sem/DATA3888/DATA3888/agg_volatility.ipynb#X50sZmlsZQ%3D%3D?line=8'>9</a>\u001b[0m \u001b[39m# ax.set_xscale('log')\u001b[39;00m\n\u001b[1;32m     <a href='vscode-notebook-cell:/Users/sarahbradley/Documents/University/0123_Sem/DATA3888/DATA3888/agg_volatility.ipynb#X50sZmlsZQ%3D%3D?line=9'>10</a>\u001b[0m \u001b[39mreturn\u001b[39;00m g\n",
      "File \u001b[0;32m/opt/homebrew/lib/python3.9/site-packages/matplotlib/__init__.py:1412\u001b[0m, in \u001b[0;36m_preprocess_data.<locals>.inner\u001b[0;34m(ax, data, *args, **kwargs)\u001b[0m\n\u001b[1;32m   1409\u001b[0m \u001b[39m@functools\u001b[39m\u001b[39m.\u001b[39mwraps(func)\n\u001b[1;32m   1410\u001b[0m \u001b[39mdef\u001b[39;00m \u001b[39minner\u001b[39m(ax, \u001b[39m*\u001b[39margs, data\u001b[39m=\u001b[39m\u001b[39mNone\u001b[39;00m, \u001b[39m*\u001b[39m\u001b[39m*\u001b[39mkwargs):\n\u001b[1;32m   1411\u001b[0m     \u001b[39mif\u001b[39;00m data \u001b[39mis\u001b[39;00m \u001b[39mNone\u001b[39;00m:\n\u001b[0;32m-> 1412\u001b[0m         \u001b[39mreturn\u001b[39;00m func(ax, \u001b[39m*\u001b[39;49m\u001b[39mmap\u001b[39;49m(sanitize_sequence, args), \u001b[39m*\u001b[39;49m\u001b[39m*\u001b[39;49mkwargs)\n\u001b[1;32m   1414\u001b[0m     bound \u001b[39m=\u001b[39m new_sig\u001b[39m.\u001b[39mbind(ax, \u001b[39m*\u001b[39margs, \u001b[39m*\u001b[39m\u001b[39m*\u001b[39mkwargs)\n\u001b[1;32m   1415\u001b[0m     auto_label \u001b[39m=\u001b[39m (bound\u001b[39m.\u001b[39marguments\u001b[39m.\u001b[39mget(label_namer)\n\u001b[1;32m   1416\u001b[0m                   \u001b[39mor\u001b[39;00m bound\u001b[39m.\u001b[39mkwargs\u001b[39m.\u001b[39mget(label_namer))\n",
      "File \u001b[0;32m/opt/homebrew/lib/python3.9/site-packages/matplotlib/axes/_axes.py:3711\u001b[0m, in \u001b[0;36mAxes.boxplot\u001b[0;34m(self, x, notch, sym, vert, whis, positions, widths, patch_artist, bootstrap, usermedians, conf_intervals, meanline, showmeans, showcaps, showbox, showfliers, boxprops, labels, flierprops, medianprops, meanprops, capprops, whiskerprops, manage_ticks, autorange, zorder)\u001b[0m\n\u001b[1;32m   3708\u001b[0m \u001b[39mif\u001b[39;00m bootstrap \u001b[39mis\u001b[39;00m \u001b[39mNone\u001b[39;00m:\n\u001b[1;32m   3709\u001b[0m     bootstrap \u001b[39m=\u001b[39m rcParams[\u001b[39m'\u001b[39m\u001b[39mboxplot.bootstrap\u001b[39m\u001b[39m'\u001b[39m]\n\u001b[0;32m-> 3711\u001b[0m bxpstats \u001b[39m=\u001b[39m cbook\u001b[39m.\u001b[39;49mboxplot_stats(x, whis\u001b[39m=\u001b[39;49mwhis, bootstrap\u001b[39m=\u001b[39;49mbootstrap,\n\u001b[1;32m   3712\u001b[0m                                labels\u001b[39m=\u001b[39;49mlabels, autorange\u001b[39m=\u001b[39;49mautorange)\n\u001b[1;32m   3713\u001b[0m \u001b[39mif\u001b[39;00m notch \u001b[39mis\u001b[39;00m \u001b[39mNone\u001b[39;00m:\n\u001b[1;32m   3714\u001b[0m     notch \u001b[39m=\u001b[39m rcParams[\u001b[39m'\u001b[39m\u001b[39mboxplot.notch\u001b[39m\u001b[39m'\u001b[39m]\n",
      "File \u001b[0;32m/opt/homebrew/lib/python3.9/site-packages/matplotlib/cbook/__init__.py:1155\u001b[0m, in \u001b[0;36mboxplot_stats\u001b[0;34m(X, whis, bootstrap, labels, autorange)\u001b[0m\n\u001b[1;32m   1152\u001b[0m bxpstats \u001b[39m=\u001b[39m []\n\u001b[1;32m   1154\u001b[0m \u001b[39m# convert X to a list of lists\u001b[39;00m\n\u001b[0;32m-> 1155\u001b[0m X \u001b[39m=\u001b[39m _reshape_2D(X, \u001b[39m\"\u001b[39;49m\u001b[39mX\u001b[39;49m\u001b[39m\"\u001b[39;49m)\n\u001b[1;32m   1157\u001b[0m ncols \u001b[39m=\u001b[39m \u001b[39mlen\u001b[39m(X)\n\u001b[1;32m   1158\u001b[0m \u001b[39mif\u001b[39;00m labels \u001b[39mis\u001b[39;00m \u001b[39mNone\u001b[39;00m:\n",
      "File \u001b[0;32m/opt/homebrew/lib/python3.9/site-packages/matplotlib/cbook/__init__.py:1398\u001b[0m, in \u001b[0;36m_reshape_2D\u001b[0;34m(X, name)\u001b[0m\n\u001b[1;32m   1396\u001b[0m     nd \u001b[39m=\u001b[39m np\u001b[39m.\u001b[39mndim(xi)\n\u001b[1;32m   1397\u001b[0m     \u001b[39mif\u001b[39;00m nd \u001b[39m>\u001b[39m \u001b[39m1\u001b[39m:\n\u001b[0;32m-> 1398\u001b[0m         \u001b[39mraise\u001b[39;00m \u001b[39mValueError\u001b[39;00m(\u001b[39mf\u001b[39m\u001b[39m'\u001b[39m\u001b[39m{\u001b[39;00mname\u001b[39m}\u001b[39;00m\u001b[39m must have 2 or fewer dimensions\u001b[39m\u001b[39m'\u001b[39m)\n\u001b[1;32m   1399\u001b[0m     result\u001b[39m.\u001b[39mappend(xi\u001b[39m.\u001b[39mreshape(\u001b[39m-\u001b[39m\u001b[39m1\u001b[39m))\n\u001b[1;32m   1401\u001b[0m \u001b[39mif\u001b[39;00m is_1d:\n\u001b[1;32m   1402\u001b[0m     \u001b[39m# 1D array of scalars: directly return it.\u001b[39;00m\n",
      "\u001b[0;31mValueError\u001b[0m: X must have 2 or fewer dimensions"
     ]
    },
    {
     "data": {
      "image/png": "[encoded data removed]",
      "text/plain": [
       "<Figure size 640x480 with 1 Axes>"
      ]
     },
     "metadata": {},
     "output_type": "display_data"
    }
   ],
   "source": [
    "# Visualising boxplot summary:\n",
    "import matplotlib.pyplot as plt\n",
    "\n",
    "# fig, ax = plt.subplot()\n",
    "def my_boxplot(row):\n",
    "    data = row[0:5]\n",
    "    fig, ax = plt.subplots()\n",
    "    g = ax.boxplot([data], widths=0.5, vert=False, sym='o', showfliers=False)\n",
    "    # ax.set_xscale('log')\n",
    "    return g\n",
    "\n",
    "type(df_ls[0])\n",
    "i = 0\n",
    "\n",
    "for df in df_ls:\n",
    "    g = my_boxplot(df)\n",
    "    name = \"plot\"+str(i)\n",
    "    print(df.T.columns)\n",
    "    fig = g.figure\n",
    "    fig.savefig(name+\".jpg\")\n",
    "    i += 1"
   ]
  },
  {
   "cell_type": "code",
   "execution_count": 45,
   "metadata": {},
   "outputs": [
    {
     "ename": "AssertionError",
     "evalue": "4",
     "output_type": "error",
     "traceback": [
      "\u001b[0;31m---------------------------------------------------------------------------\u001b[0m",
      "\u001b[0;31mAssertionError\u001b[0m                            Traceback (most recent call last)",
      "\u001b[1;32m/Users/sarahbradley/Documents/University/0123_Sem/DATA3888/DATA3888/agg_volatility.ipynb Cell 18\u001b[0m in \u001b[0;36m5\n\u001b[1;32m      <a href='vscode-notebook-cell:/Users/sarahbradley/Documents/University/0123_Sem/DATA3888/DATA3888/agg_volatility.ipynb#X45sZmlsZQ%3D%3D?line=2'>3</a>\u001b[0m \u001b[39mtype\u001b[39m(df)\n\u001b[1;32m      <a href='vscode-notebook-cell:/Users/sarahbradley/Documents/University/0123_Sem/DATA3888/DATA3888/agg_volatility.ipynb#X45sZmlsZQ%3D%3D?line=3'>4</a>\u001b[0m name \u001b[39m=\u001b[39m \u001b[39m\"\u001b[39m\u001b[39mplot\u001b[39m\u001b[39m\"\u001b[39m\u001b[39m+\u001b[39m\u001b[39mstr\u001b[39m(i)\n\u001b[0;32m----> <a href='vscode-notebook-cell:/Users/sarahbradley/Documents/University/0123_Sem/DATA3888/DATA3888/agg_volatility.ipynb#X45sZmlsZQ%3D%3D?line=4'>5</a>\u001b[0m g \u001b[39m=\u001b[39m df\u001b[39m.\u001b[39;49mT\u001b[39m.\u001b[39;49mboxplot()\n\u001b[1;32m      <a href='vscode-notebook-cell:/Users/sarahbradley/Documents/University/0123_Sem/DATA3888/DATA3888/agg_volatility.ipynb#X45sZmlsZQ%3D%3D?line=5'>6</a>\u001b[0m fig \u001b[39m=\u001b[39m g\u001b[39m.\u001b[39mfigure \n\u001b[1;32m      <a href='vscode-notebook-cell:/Users/sarahbradley/Documents/University/0123_Sem/DATA3888/DATA3888/agg_volatility.ipynb#X45sZmlsZQ%3D%3D?line=6'>7</a>\u001b[0m fig\u001b[39m.\u001b[39msavefig(name\u001b[39m+\u001b[39m\u001b[39m\"\u001b[39m\u001b[39m.jpg\u001b[39m\u001b[39m\"\u001b[39m)\n",
      "File \u001b[0;32m/opt/homebrew/lib/python3.9/site-packages/pandas/plotting/_core.py:511\u001b[0m, in \u001b[0;36mboxplot_frame\u001b[0;34m(self, column, by, ax, fontsize, rot, grid, figsize, layout, return_type, backend, **kwargs)\u001b[0m\n\u001b[1;32m    494\u001b[0m \u001b[39m@Substitution\u001b[39m(backend\u001b[39m=\u001b[39m_backend_doc)\n\u001b[1;32m    495\u001b[0m \u001b[39m@Appender\u001b[39m(_boxplot_doc)\n\u001b[1;32m    496\u001b[0m \u001b[39mdef\u001b[39;00m \u001b[39mboxplot_frame\u001b[39m(\n\u001b[0;32m   (...)\u001b[0m\n\u001b[1;32m    508\u001b[0m     \u001b[39m*\u001b[39m\u001b[39m*\u001b[39mkwargs,\n\u001b[1;32m    509\u001b[0m ):\n\u001b[1;32m    510\u001b[0m     plot_backend \u001b[39m=\u001b[39m _get_plot_backend(backend)\n\u001b[0;32m--> 511\u001b[0m     \u001b[39mreturn\u001b[39;00m plot_backend\u001b[39m.\u001b[39;49mboxplot_frame(\n\u001b[1;32m    512\u001b[0m         \u001b[39mself\u001b[39;49m,\n\u001b[1;32m    513\u001b[0m         column\u001b[39m=\u001b[39;49mcolumn,\n\u001b[1;32m    514\u001b[0m         by\u001b[39m=\u001b[39;49mby,\n\u001b[1;32m    515\u001b[0m         ax\u001b[39m=\u001b[39;49max,\n\u001b[1;32m    516\u001b[0m         fontsize\u001b[39m=\u001b[39;49mfontsize,\n\u001b[1;32m    517\u001b[0m         rot\u001b[39m=\u001b[39;49mrot,\n\u001b[1;32m    518\u001b[0m         grid\u001b[39m=\u001b[39;49mgrid,\n\u001b[1;32m    519\u001b[0m         figsize\u001b[39m=\u001b[39;49mfigsize,\n\u001b[1;32m    520\u001b[0m         layout\u001b[39m=\u001b[39;49mlayout,\n\u001b[1;32m    521\u001b[0m         return_type\u001b[39m=\u001b[39;49mreturn_type,\n\u001b[1;32m    522\u001b[0m         \u001b[39m*\u001b[39;49m\u001b[39m*\u001b[39;49mkwargs,\n\u001b[1;32m    523\u001b[0m     )\n",
      "File \u001b[0;32m/opt/homebrew/lib/python3.9/site-packages/pandas/plotting/_matplotlib/boxplot.py:425\u001b[0m, in \u001b[0;36mboxplot_frame\u001b[0;34m(self, column, by, ax, fontsize, rot, grid, figsize, layout, return_type, **kwds)\u001b[0m\n\u001b[1;32m    410\u001b[0m \u001b[39mdef\u001b[39;00m \u001b[39mboxplot_frame\u001b[39m(\n\u001b[1;32m    411\u001b[0m     \u001b[39mself\u001b[39m,\n\u001b[1;32m    412\u001b[0m     column\u001b[39m=\u001b[39m\u001b[39mNone\u001b[39;00m,\n\u001b[0;32m   (...)\u001b[0m\n\u001b[1;32m    421\u001b[0m     \u001b[39m*\u001b[39m\u001b[39m*\u001b[39mkwds,\n\u001b[1;32m    422\u001b[0m ):\n\u001b[1;32m    423\u001b[0m     \u001b[39mimport\u001b[39;00m \u001b[39mmatplotlib\u001b[39;00m\u001b[39m.\u001b[39;00m\u001b[39mpyplot\u001b[39;00m \u001b[39mas\u001b[39;00m \u001b[39mplt\u001b[39;00m\n\u001b[0;32m--> 425\u001b[0m     ax \u001b[39m=\u001b[39m boxplot(\n\u001b[1;32m    426\u001b[0m         \u001b[39mself\u001b[39;49m,\n\u001b[1;32m    427\u001b[0m         column\u001b[39m=\u001b[39;49mcolumn,\n\u001b[1;32m    428\u001b[0m         by\u001b[39m=\u001b[39;49mby,\n\u001b[1;32m    429\u001b[0m         ax\u001b[39m=\u001b[39;49max,\n\u001b[1;32m    430\u001b[0m         fontsize\u001b[39m=\u001b[39;49mfontsize,\n\u001b[1;32m    431\u001b[0m         grid\u001b[39m=\u001b[39;49mgrid,\n\u001b[1;32m    432\u001b[0m         rot\u001b[39m=\u001b[39;49mrot,\n\u001b[1;32m    433\u001b[0m         figsize\u001b[39m=\u001b[39;49mfigsize,\n\u001b[1;32m    434\u001b[0m         layout\u001b[39m=\u001b[39;49mlayout,\n\u001b[1;32m    435\u001b[0m         return_type\u001b[39m=\u001b[39;49mreturn_type,\n\u001b[1;32m    436\u001b[0m         \u001b[39m*\u001b[39;49m\u001b[39m*\u001b[39;49mkwds,\n\u001b[1;32m    437\u001b[0m     )\n\u001b[1;32m    438\u001b[0m     plt\u001b[39m.\u001b[39mdraw_if_interactive()\n\u001b[1;32m    439\u001b[0m     \u001b[39mreturn\u001b[39;00m ax\n",
      "File \u001b[0;32m/opt/homebrew/lib/python3.9/site-packages/pandas/plotting/_matplotlib/boxplot.py:404\u001b[0m, in \u001b[0;36mboxplot\u001b[0;34m(data, column, by, ax, fontsize, rot, grid, figsize, layout, return_type, **kwds)\u001b[0m\n\u001b[1;32m    401\u001b[0m     \u001b[39melse\u001b[39;00m:\n\u001b[1;32m    402\u001b[0m         data \u001b[39m=\u001b[39m data[columns]\n\u001b[0;32m--> 404\u001b[0m     result \u001b[39m=\u001b[39m plot_group(columns, data\u001b[39m.\u001b[39;49mvalues\u001b[39m.\u001b[39;49mT, ax)\n\u001b[1;32m    405\u001b[0m     ax\u001b[39m.\u001b[39mgrid(grid)\n\u001b[1;32m    407\u001b[0m \u001b[39mreturn\u001b[39;00m result\n",
      "File \u001b[0;32m/opt/homebrew/lib/python3.9/site-packages/pandas/plotting/_matplotlib/boxplot.py:345\u001b[0m, in \u001b[0;36mboxplot.<locals>.plot_group\u001b[0;34m(keys, values, ax)\u001b[0m\n\u001b[1;32m    343\u001b[0m \u001b[39mif\u001b[39;00m \u001b[39mlen\u001b[39m(ticks) \u001b[39m!=\u001b[39m \u001b[39mlen\u001b[39m(keys):\n\u001b[1;32m    344\u001b[0m     i, remainder \u001b[39m=\u001b[39m \u001b[39mdivmod\u001b[39m(\u001b[39mlen\u001b[39m(ticks), \u001b[39mlen\u001b[39m(keys))\n\u001b[0;32m--> 345\u001b[0m     \u001b[39massert\u001b[39;00m remainder \u001b[39m==\u001b[39m \u001b[39m0\u001b[39m, remainder\n\u001b[1;32m    346\u001b[0m     keys \u001b[39m*\u001b[39m\u001b[39m=\u001b[39m i\n\u001b[1;32m    347\u001b[0m ax\u001b[39m.\u001b[39mset_xticklabels(keys, rotation\u001b[39m=\u001b[39mrot)\n",
      "\u001b[0;31mAssertionError\u001b[0m: 4"
     ]
    },
    {
     "data": {
      "image/png": "[encoded data removed]",
      "text/plain": [
       "<Figure size 640x480 with 1 Axes>"
      ]
     },
     "metadata": {},
     "output_type": "display_data"
    }
   ],
   "source": [
    "i = 0\n",
    "for df in df_ls:\n",
    "    type(df)\n",
    "    name = \"plot\"+str(i)\n",
    "    g = df.T.boxplot()\n",
    "    fig = g.figure \n",
    "    fig.savefig(name+\".jpg\")\n",
    "    i += 1"
   ]
  },
  {
   "cell_type": "code",
   "execution_count": 56,
   "metadata": {},
   "outputs": [
    {
     "data": {
      "image/png": "[encoded data removed]",
      "text/plain": [
       "<Figure size 640x480 with 1 Axes>"
      ]
     },
     "metadata": {},
     "output_type": "display_data"
    }
   ],
   "source": [
    "g = df_ls[0].T.boxplot()\n",
    "fig = g.figure\n",
    "fig.savefig(\"plot0.jpg\")\n",
    "# df_ls[1].T.boxplot()\n",
    "# df_ls[2].T.boxplot()\n",
    "# df_ls[3].T.boxplot()\n",
    "# df_ls[4].T.boxplot()\n",
    "# df_ls[5].T.boxplot()"
   ]
  },
  {
   "cell_type": "code",
   "execution_count": 7,
   "metadata": {},
   "outputs": [
    {
     "data": {
      "text/html": [
       "<style>#sk-container-id-2 {color: black;background-color: white;}#sk-container-id-2 pre{padding: 0;}#sk-container-id-2 div.sk-toggleable {background-color: white;}#sk-container-id-2 label.sk-toggleable__label {cursor: pointer;display: block;width: 100%;margin-bottom: 0;padding: 0.3em;box-sizing: border-box;text-align: center;}#sk-container-id-2 label.sk-toggleable__label-arrow:before {content: \"▸\";float: left;margin-right: 0.25em;color: #696969;}#sk-container-id-2 label.sk-toggleable__label-arrow:hover:before {color: black;}#sk-container-id-2 div.sk-estimator:hover label.sk-toggleable__label-arrow:before {color: black;}#sk-container-id-2 div.sk-toggleable__content {max-height: 0;max-width: 0;overflow: hidden;text-align: left;background-color: #f0f8ff;}#sk-container-id-2 div.sk-toggleable__content pre {margin: 0.2em;color: black;border-radius: 0.25em;background-color: #f0f8ff;}#sk-container-id-2 input.sk-toggleable__control:checked~div.sk-toggleable__content {max-height: 200px;max-width: 100%;overflow: auto;}#sk-container-id-2 input.sk-toggleable__control:checked~label.sk-toggleable__label-arrow:before {content: \"▾\";}#sk-container-id-2 div.sk-estimator input.sk-toggleable__control:checked~label.sk-toggleable__label {background-color: #d4ebff;}#sk-container-id-2 div.sk-label input.sk-toggleable__control:checked~label.sk-toggleable__label {background-color: #d4ebff;}#sk-container-id-2 input.sk-hidden--visually {border: 0;clip: rect(1px 1px 1px 1px);clip: rect(1px, 1px, 1px, 1px);height: 1px;margin: -1px;overflow: hidden;padding: 0;position: absolute;width: 1px;}#sk-container-id-2 div.sk-estimator {font-family: monospace;background-color: #f0f8ff;border: 1px dotted black;border-radius: 0.25em;box-sizing: border-box;margin-bottom: 0.5em;}#sk-container-id-2 div.sk-estimator:hover {background-color: #d4ebff;}#sk-container-id-2 div.sk-parallel-item::after {content: \"\";width: 100%;border-bottom: 1px solid gray;flex-grow: 1;}#sk-container-id-2 div.sk-label:hover label.sk-toggleable__label {background-color: #d4ebff;}#sk-container-id-2 div.sk-serial::before {content: \"\";position: absolute;border-left: 1px solid gray;box-sizing: border-box;top: 0;bottom: 0;left: 50%;z-index: 0;}#sk-container-id-2 div.sk-serial {display: flex;flex-direction: column;align-items: center;background-color: white;padding-right: 0.2em;padding-left: 0.2em;position: relative;}#sk-container-id-2 div.sk-item {position: relative;z-index: 1;}#sk-container-id-2 div.sk-parallel {display: flex;align-items: stretch;justify-content: center;background-color: white;position: relative;}#sk-container-id-2 div.sk-item::before, #sk-container-id-2 div.sk-parallel-item::before {content: \"\";position: absolute;border-left: 1px solid gray;box-sizing: border-box;top: 0;bottom: 0;left: 50%;z-index: -1;}#sk-container-id-2 div.sk-parallel-item {display: flex;flex-direction: column;z-index: 1;position: relative;background-color: white;}#sk-container-id-2 div.sk-parallel-item:first-child::after {align-self: flex-end;width: 50%;}#sk-container-id-2 div.sk-parallel-item:last-child::after {align-self: flex-start;width: 50%;}#sk-container-id-2 div.sk-parallel-item:only-child::after {width: 0;}#sk-container-id-2 div.sk-dashed-wrapped {border: 1px dashed gray;margin: 0 0.4em 0.5em 0.4em;box-sizing: border-box;padding-bottom: 0.4em;background-color: white;}#sk-container-id-2 div.sk-label label {font-family: monospace;font-weight: bold;display: inline-block;line-height: 1.2em;}#sk-container-id-2 div.sk-label-container {text-align: center;}#sk-container-id-2 div.sk-container {/* jupyter's `normalize.less` sets `[hidden] { display: none; }` but bootstrap.min.css set `[hidden] { display: none !important; }` so we also need the `!important` here to be able to override the default hidden behavior on the sphinx rendered scikit-learn.org. See: https://github.com/scikit-learn/scikit-learn/issues/21755 */display: inline-block !important;position: relative;}#sk-container-id-2 div.sk-text-repr-fallback {display: none;}</style><div id=\"sk-container-id-2\" class=\"sk-top-container\"><div class=\"sk-text-repr-fallback\"><pre>KMeans(init=&#x27;random&#x27;, n_clusters=3, n_init=10, random_state=42)</pre><b>In a Jupyter environment, please rerun this cell to show the HTML representation or trust the notebook. <br />On GitHub, the HTML representation is unable to render, please try loading this page with nbviewer.org.</b></div><div class=\"sk-container\" hidden><div class=\"sk-item\"><div class=\"sk-estimator sk-toggleable\"><input class=\"sk-toggleable__control sk-hidden--visually\" id=\"sk-estimator-id-2\" type=\"checkbox\" checked><label for=\"sk-estimator-id-2\" class=\"sk-toggleable__label sk-toggleable__label-arrow\">KMeans</label><div class=\"sk-toggleable__content\"><pre>KMeans(init=&#x27;random&#x27;, n_clusters=3, n_init=10, random_state=42)</pre></div></div></div></div></div>"
      ],
      "text/plain": [
       "KMeans(init='random', n_clusters=3, n_init=10, random_state=42)"
      ]
     },
     "execution_count": 7,
     "metadata": {},
     "output_type": "execute_result"
    }
   ],
   "source": [
    "final_df\n",
    "from sklearn.cluster import KMeans\n",
    "\n",
    "kmeans = KMeans(init=\"random\", n_clusters = 3, n_init=10, max_iter=300, random_state=42)\n",
    "kmeans.fit(final_df)"
   ]
  },
  {
   "cell_type": "code",
   "execution_count": 8,
   "metadata": {},
   "outputs": [
    {
     "data": {
      "text/plain": [
       "7"
      ]
     },
     "execution_count": 8,
     "metadata": {},
     "output_type": "execute_result"
    }
   ],
   "source": [
    "kmeans.inertia_\n",
    "kmeans.cluster_centers_\n",
    "kmeans.n_iter_"
   ]
  },
  {
   "cell_type": "code",
   "execution_count": 13,
   "metadata": {},
   "outputs": [
    {
     "data": {
      "text/plain": [
       "array([0, 0, 0, 0, 0, 0, 0, 0, 0, 0, 0, 0, 0, 0, 0, 0, 0, 0, 0, 0],\n",
       "      dtype=int32)"
      ]
     },
     "execution_count": 13,
     "metadata": {},
     "output_type": "execute_result"
    }
   ],
   "source": [
    "kmeans.labels_[:20]"
   ]
  },
  {
   "cell_type": "code",
   "execution_count": 10,
   "metadata": {},
   "outputs": [
    {
     "data": {
      "text/plain": [
       "array([[-1.71665449, -1.31012361, -1.06681008, ..., -1.07479595,\n",
       "        -0.68461823, -0.68461823],\n",
       "       [-1.68572378,  0.18549987, -0.18992486, ..., -0.19446504,\n",
       "        -0.31657378, -0.31657378],\n",
       "       [-1.65479307,  0.67989228,  0.23049047, ...,  0.49803539,\n",
       "         1.10585315,  1.10585315],\n",
       "       ...,\n",
       "       [ 1.65479307,  1.34647825,  0.47022113, ...,  0.4486133 ,\n",
       "         0.19733693,  0.19733693],\n",
       "       [ 1.68572378,  0.79103109,  0.74120354, ...,  0.72733206,\n",
       "         0.42672379,  0.42672379],\n",
       "       [ 1.71665449,  0.86994286, -0.19072501, ..., -0.32770317,\n",
       "        -0.84984501, -0.84984501]])"
      ]
     },
     "execution_count": 10,
     "metadata": {},
     "output_type": "execute_result"
    }
   ],
   "source": [
    "from sklearn.decomposition import PCA\n",
    "from sklearn.preprocessing import StandardScaler\n",
    "\n",
    "scaler = StandardScaler()\n",
    "scaled_df = scaler.fit_transform(final_df)\n",
    "scaled_df"
   ]
  },
  {
   "cell_type": "code",
   "execution_count": null,
   "metadata": {},
   "outputs": [],
   "source": []
  }
 ],
 "metadata": {
  "kernelspec": {
   "display_name": "Python 3 (ipykernel)",
   "language": "python",
   "name": "python3"
  },
  "language_info": {
   "codemirror_mode": {
    "name": "ipython",
    "version": 3
   },
   "file_extension": ".py",
   "mimetype": "text/x-python",
   "name": "python",
   "nbconvert_exporter": "python",
   "pygments_lexer": "ipython3",
   "version": "3.9.16"
  }
 },
 "nbformat": 4,
 "nbformat_minor": 2
}
